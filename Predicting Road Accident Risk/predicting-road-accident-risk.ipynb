{
 "cells": [
  {
   "cell_type": "markdown",
   "id": "7d7b4ecd",
   "metadata": {
    "papermill": {
     "duration": 0.00352,
     "end_time": "2025-10-01T09:38:30.907625",
     "exception": false,
     "start_time": "2025-10-01T09:38:30.904105",
     "status": "completed"
    },
    "tags": []
   },
   "source": [
    "# Import libraries and models"
   ]
  },
  {
   "cell_type": "code",
   "execution_count": 1,
   "id": "36636054",
   "metadata": {
    "execution": {
     "iopub.execute_input": "2025-10-01T09:38:30.915437Z",
     "iopub.status.busy": "2025-10-01T09:38:30.914977Z",
     "iopub.status.idle": "2025-10-01T09:38:36.532990Z",
     "shell.execute_reply": "2025-10-01T09:38:36.531028Z"
    },
    "papermill": {
     "duration": 5.624261,
     "end_time": "2025-10-01T09:38:36.535106",
     "exception": false,
     "start_time": "2025-10-01T09:38:30.910845",
     "status": "completed"
    },
    "tags": []
   },
   "outputs": [],
   "source": [
    "import pandas as pd\n",
    "from sklearn.model_selection import cross_val_score\n",
    "from sklearn.pipeline import Pipeline\n",
    "from sklearn.compose import ColumnTransformer\n",
    "from sklearn.preprocessing import OneHotEncoder\n",
    "from sklearn.impute import SimpleImputer\n",
    "from xgboost import XGBRegressor"
   ]
  },
  {
   "cell_type": "markdown",
   "id": "ec266b27",
   "metadata": {
    "papermill": {
     "duration": 0.002467,
     "end_time": "2025-10-01T09:38:36.541914",
     "exception": false,
     "start_time": "2025-10-01T09:38:36.539447",
     "status": "completed"
    },
    "tags": []
   },
   "source": [
    "# Load the data"
   ]
  },
  {
   "cell_type": "code",
   "execution_count": 2,
   "id": "a86a1b8f",
   "metadata": {
    "execution": {
     "iopub.execute_input": "2025-10-01T09:38:36.548857Z",
     "iopub.status.busy": "2025-10-01T09:38:36.548224Z",
     "iopub.status.idle": "2025-10-01T09:38:38.180739Z",
     "shell.execute_reply": "2025-10-01T09:38:38.178595Z"
    },
    "papermill": {
     "duration": 1.63827,
     "end_time": "2025-10-01T09:38:38.182853",
     "exception": false,
     "start_time": "2025-10-01T09:38:36.544583",
     "status": "completed"
    },
    "tags": []
   },
   "outputs": [],
   "source": [
    "train = pd.read_csv('/kaggle/input/playground-series-s5e10/train.csv')\n",
    "test = pd.read_csv('/kaggle/input/playground-series-s5e10/test.csv')"
   ]
  },
  {
   "cell_type": "markdown",
   "id": "805939dd",
   "metadata": {
    "papermill": {
     "duration": 0.002245,
     "end_time": "2025-10-01T09:38:38.188226",
     "exception": false,
     "start_time": "2025-10-01T09:38:38.185981",
     "status": "completed"
    },
    "tags": []
   },
   "source": [
    "# Clean the data"
   ]
  },
  {
   "cell_type": "code",
   "execution_count": 3,
   "id": "fef5549f",
   "metadata": {
    "execution": {
     "iopub.execute_input": "2025-10-01T09:38:38.197121Z",
     "iopub.status.busy": "2025-10-01T09:38:38.196785Z",
     "iopub.status.idle": "2025-10-01T09:38:38.292689Z",
     "shell.execute_reply": "2025-10-01T09:38:38.291743Z"
    },
    "papermill": {
     "duration": 0.103074,
     "end_time": "2025-10-01T09:38:38.294504",
     "exception": false,
     "start_time": "2025-10-01T09:38:38.191430",
     "status": "completed"
    },
    "tags": []
   },
   "outputs": [],
   "source": [
    "# Boolean columns\n",
    "bool_cols = ['road_signs_present', 'public_road', 'holiday', 'school_season']\n",
    "\n",
    "# Encoding boolean columns\n",
    "train[bool_cols] = train[bool_cols].astype(int)\n",
    "test[bool_cols] = test[bool_cols].astype(int)\n",
    "\n",
    "# Drop features and target\n",
    "X = train.drop(['id', 'accident_risk'], axis=1)\n",
    "y = train['accident_risk']\n",
    "X_test = test.drop(['id'], axis=1)\n",
    "\n",
    "# Categorical columns\n",
    "cat_cols = [col for col in X.columns if X[col].dtype == 'object']\n",
    "\n",
    "# Numerical columns \n",
    "num_cols = [col for col in X.columns if X[col].dtype in ['int64', 'float64', 'int32']]\n",
    "\n",
    "# Preprocessor for numerical\n",
    "num_transformer = SimpleImputer(strategy='median')\n",
    "\n",
    "# Preprocessor for categorical\n",
    "cat_transformer = Pipeline(steps=[\n",
    "    ('imputer', SimpleImputer(strategy='constant', fill_value='missing')),\n",
    "    ('onehot', OneHotEncoder(handle_unknown='ignore'))\n",
    "])\n",
    "\n",
    "# Combine preprocessor\n",
    "preprocessor = ColumnTransformer(\n",
    "    transformers=[\n",
    "        ('num', num_transformer, num_cols),\n",
    "        ('cat', cat_transformer, cat_cols)\n",
    "    ])"
   ]
  },
  {
   "cell_type": "markdown",
   "id": "2571d389",
   "metadata": {
    "papermill": {
     "duration": 0.002241,
     "end_time": "2025-10-01T09:38:38.299304",
     "exception": false,
     "start_time": "2025-10-01T09:38:38.297063",
     "status": "completed"
    },
    "tags": []
   },
   "source": [
    "# Train and predict"
   ]
  },
  {
   "cell_type": "code",
   "execution_count": 4,
   "id": "183e4917",
   "metadata": {
    "execution": {
     "iopub.execute_input": "2025-10-01T09:38:38.305355Z",
     "iopub.status.busy": "2025-10-01T09:38:38.305037Z",
     "iopub.status.idle": "2025-10-01T09:41:02.598679Z",
     "shell.execute_reply": "2025-10-01T09:41:02.597863Z"
    },
    "papermill": {
     "duration": 144.299096,
     "end_time": "2025-10-01T09:41:02.600841",
     "exception": false,
     "start_time": "2025-10-01T09:38:38.301745",
     "status": "completed"
    },
    "tags": []
   },
   "outputs": [
    {
     "name": "stdout",
     "output_type": "stream",
     "text": [
      "Average MAE from CV: 0.04360385688312777\n"
     ]
    }
   ],
   "source": [
    "# Model XGBoost\n",
    "model = XGBRegressor(n_estimators=1000, learning_rate=0.05, random_state=0, n_jobs=-1)\n",
    "\n",
    "# Pipeline \n",
    "my_pipeline = Pipeline(steps=[('preprocessor', preprocessor),\n",
    "                              ('model', model)])\n",
    "\n",
    "# Cross-validation \n",
    "scores = -1 * cross_val_score(my_pipeline, X, y, cv=5, scoring='neg_mean_absolute_error')\n",
    "print('Average MAE from CV:', scores.mean())\n",
    "\n",
    "# Fit model \n",
    "my_pipeline.fit(X, y)\n",
    "\n",
    "# Predict \n",
    "test_preds = my_pipeline.predict(X_test)"
   ]
  },
  {
   "cell_type": "markdown",
   "id": "c33f45e2",
   "metadata": {
    "papermill": {
     "duration": 0.003029,
     "end_time": "2025-10-01T09:41:02.607737",
     "exception": false,
     "start_time": "2025-10-01T09:41:02.604708",
     "status": "completed"
    },
    "tags": []
   },
   "source": [
    "# Submission"
   ]
  },
  {
   "cell_type": "code",
   "execution_count": 5,
   "id": "f365cef3",
   "metadata": {
    "execution": {
     "iopub.execute_input": "2025-10-01T09:41:02.617206Z",
     "iopub.status.busy": "2025-10-01T09:41:02.616822Z",
     "iopub.status.idle": "2025-10-01T09:41:02.969895Z",
     "shell.execute_reply": "2025-10-01T09:41:02.968237Z"
    },
    "papermill": {
     "duration": 0.360819,
     "end_time": "2025-10-01T09:41:02.971631",
     "exception": false,
     "start_time": "2025-10-01T09:41:02.610812",
     "status": "completed"
    },
    "tags": []
   },
   "outputs": [
    {
     "name": "stdout",
     "output_type": "stream",
     "text": [
      "Submission file created!\n"
     ]
    }
   ],
   "source": [
    "# Create submission\n",
    "submission = pd.DataFrame({'id': test['id'], 'accident_risk': test_preds})\n",
    "submission.to_csv('submission.csv', index=False)\n",
    "print('Submission file created!')"
   ]
  }
 ],
 "metadata": {
  "kaggle": {
   "accelerator": "none",
   "dataSources": [
    {
     "databundleVersionId": 13760552,
     "sourceId": 91721,
     "sourceType": "competition"
    }
   ],
   "isGpuEnabled": false,
   "isInternetEnabled": false,
   "language": "python",
   "sourceType": "notebook"
  },
  "kernelspec": {
   "display_name": "Python 3",
   "language": "python",
   "name": "python3"
  },
  "language_info": {
   "codemirror_mode": {
    "name": "ipython",
    "version": 3
   },
   "file_extension": ".py",
   "mimetype": "text/x-python",
   "name": "python",
   "nbconvert_exporter": "python",
   "pygments_lexer": "ipython3",
   "version": "3.11.13"
  },
  "papermill": {
   "default_parameters": {},
   "duration": 160.302869,
   "end_time": "2025-10-01T09:41:03.805269",
   "environment_variables": {},
   "exception": null,
   "input_path": "__notebook__.ipynb",
   "output_path": "__notebook__.ipynb",
   "parameters": {},
   "start_time": "2025-10-01T09:38:23.502400",
   "version": "2.6.0"
  }
 },
 "nbformat": 4,
 "nbformat_minor": 5
}
