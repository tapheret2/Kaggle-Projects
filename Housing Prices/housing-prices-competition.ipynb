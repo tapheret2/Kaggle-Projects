{
 "cells": [
  {
   "cell_type": "markdown",
   "id": "4d4c8915",
   "metadata": {
    "papermill": {
     "duration": 0.007351,
     "end_time": "2025-10-01T05:53:52.381309",
     "exception": false,
     "start_time": "2025-10-01T05:53:52.373958",
     "status": "completed"
    },
    "tags": []
   },
   "source": [
    "**This notebook is an exercise in the [Intermediate Machine Learning](https://www.kaggle.com/learn/intermediate-machine-learning) course.  You can reference the tutorial at [this link](https://www.kaggle.com/alexisbcook/categorical-variables).**\n",
    "\n",
    "---\n"
   ]
  },
  {
   "cell_type": "markdown",
   "id": "ef2fcec2",
   "metadata": {
    "papermill": {
     "duration": 0.005984,
     "end_time": "2025-10-01T05:53:52.393957",
     "exception": false,
     "start_time": "2025-10-01T05:53:52.387973",
     "status": "completed"
    },
    "tags": []
   },
   "source": [
    "By encoding **categorical variables**, you'll obtain your best results thus far!\n",
    "\n",
    "# Setup\n",
    "\n",
    "The questions below will give you feedback on your work. Run the following cell to set up the feedback system."
   ]
  },
  {
   "cell_type": "code",
   "execution_count": 1,
   "id": "9ac1b25d",
   "metadata": {
    "execution": {
     "iopub.execute_input": "2025-10-01T05:53:52.407691Z",
     "iopub.status.busy": "2025-10-01T05:53:52.407367Z",
     "iopub.status.idle": "2025-10-01T05:53:54.356663Z",
     "shell.execute_reply": "2025-10-01T05:53:54.355676Z"
    },
    "papermill": {
     "duration": 1.958134,
     "end_time": "2025-10-01T05:53:54.358280",
     "exception": false,
     "start_time": "2025-10-01T05:53:52.400146",
     "status": "completed"
    },
    "tags": []
   },
   "outputs": [
    {
     "name": "stdout",
     "output_type": "stream",
     "text": [
      "Setup Complete\n"
     ]
    }
   ],
   "source": [
    "# Set up code checking\n",
    "import os\n",
    "if not os.path.exists(\"../input/train.csv\"):\n",
    "    os.symlink(\"../input/home-data-for-ml-course/train.csv\", \"../input/train.csv\")  \n",
    "    os.symlink(\"../input/home-data-for-ml-course/test.csv\", \"../input/test.csv\") \n",
    "from learntools.core import binder\n",
    "binder.bind(globals())\n",
    "from learntools.ml_intermediate.ex3 import *\n",
    "print(\"Setup Complete\")"
   ]
  },
  {
   "cell_type": "markdown",
   "id": "e26d7e68",
   "metadata": {
    "papermill": {
     "duration": 0.007103,
     "end_time": "2025-10-01T05:53:54.371977",
     "exception": false,
     "start_time": "2025-10-01T05:53:54.364874",
     "status": "completed"
    },
    "tags": []
   },
   "source": [
    "In this exercise, you will work with data from the [Housing Prices Competition for Kaggle Learn Users](https://www.kaggle.com/c/home-data-for-ml-course). \n",
    "\n",
    "![Ames Housing dataset image](https://storage.googleapis.com/kaggle-media/learn/images/lTJVG4e.png)\n",
    "\n",
    "Run the next code cell without changes to load the training and validation sets in `X_train`, `X_valid`, `y_train`, and `y_valid`.  The test set is loaded in `X_test`."
   ]
  },
  {
   "cell_type": "code",
   "execution_count": 2,
   "id": "e6b25b5e",
   "metadata": {
    "execution": {
     "iopub.execute_input": "2025-10-01T05:53:54.386390Z",
     "iopub.status.busy": "2025-10-01T05:53:54.385894Z",
     "iopub.status.idle": "2025-10-01T05:53:56.140608Z",
     "shell.execute_reply": "2025-10-01T05:53:56.139763Z"
    },
    "papermill": {
     "duration": 1.763973,
     "end_time": "2025-10-01T05:53:56.142218",
     "exception": false,
     "start_time": "2025-10-01T05:53:54.378245",
     "status": "completed"
    },
    "tags": []
   },
   "outputs": [],
   "source": [
    "import pandas as pd\n",
    "from sklearn.model_selection import train_test_split\n",
    "\n",
    "# Read the data\n",
    "X = pd.read_csv('../input/train.csv', index_col='Id') \n",
    "X_test = pd.read_csv('../input/test.csv', index_col='Id')\n",
    "\n",
    "# Remove rows with missing target, separate target from predictors\n",
    "X.dropna(axis=0, subset=['SalePrice'], inplace=True)\n",
    "y = X.SalePrice\n",
    "X.drop(['SalePrice'], axis=1, inplace=True)\n",
    "\n",
    "# To keep things simple, we'll drop columns with missing values\n",
    "cols_with_missing = [col for col in X.columns if X[col].isnull().any()] \n",
    "X.drop(cols_with_missing, axis=1, inplace=True)\n",
    "X_test.drop(cols_with_missing, axis=1, inplace=True)\n",
    "\n",
    "# Break off validation set from training data\n",
    "X_train, X_valid, y_train, y_valid = train_test_split(X, y,\n",
    "                                                      train_size=0.8, test_size=0.2,\n",
    "                                                      random_state=0)"
   ]
  },
  {
   "cell_type": "markdown",
   "id": "8decd9c0",
   "metadata": {
    "papermill": {
     "duration": 0.006592,
     "end_time": "2025-10-01T05:53:56.155577",
     "exception": false,
     "start_time": "2025-10-01T05:53:56.148985",
     "status": "completed"
    },
    "tags": []
   },
   "source": [
    "Use the next code cell to print the first five rows of the data."
   ]
  },
  {
   "cell_type": "code",
   "execution_count": 3,
   "id": "7274b5da",
   "metadata": {
    "execution": {
     "iopub.execute_input": "2025-10-01T05:53:56.169256Z",
     "iopub.status.busy": "2025-10-01T05:53:56.168728Z",
     "iopub.status.idle": "2025-10-01T05:53:56.197669Z",
     "shell.execute_reply": "2025-10-01T05:53:56.196766Z"
    },
    "papermill": {
     "duration": 0.037448,
     "end_time": "2025-10-01T05:53:56.199147",
     "exception": false,
     "start_time": "2025-10-01T05:53:56.161699",
     "status": "completed"
    },
    "tags": []
   },
   "outputs": [
    {
     "data": {
      "text/html": [
       "<div>\n",
       "<style scoped>\n",
       "    .dataframe tbody tr th:only-of-type {\n",
       "        vertical-align: middle;\n",
       "    }\n",
       "\n",
       "    .dataframe tbody tr th {\n",
       "        vertical-align: top;\n",
       "    }\n",
       "\n",
       "    .dataframe thead th {\n",
       "        text-align: right;\n",
       "    }\n",
       "</style>\n",
       "<table border=\"1\" class=\"dataframe\">\n",
       "  <thead>\n",
       "    <tr style=\"text-align: right;\">\n",
       "      <th></th>\n",
       "      <th>MSSubClass</th>\n",
       "      <th>MSZoning</th>\n",
       "      <th>LotArea</th>\n",
       "      <th>Street</th>\n",
       "      <th>LotShape</th>\n",
       "      <th>LandContour</th>\n",
       "      <th>Utilities</th>\n",
       "      <th>LotConfig</th>\n",
       "      <th>LandSlope</th>\n",
       "      <th>Neighborhood</th>\n",
       "      <th>...</th>\n",
       "      <th>OpenPorchSF</th>\n",
       "      <th>EnclosedPorch</th>\n",
       "      <th>3SsnPorch</th>\n",
       "      <th>ScreenPorch</th>\n",
       "      <th>PoolArea</th>\n",
       "      <th>MiscVal</th>\n",
       "      <th>MoSold</th>\n",
       "      <th>YrSold</th>\n",
       "      <th>SaleType</th>\n",
       "      <th>SaleCondition</th>\n",
       "    </tr>\n",
       "    <tr>\n",
       "      <th>Id</th>\n",
       "      <th></th>\n",
       "      <th></th>\n",
       "      <th></th>\n",
       "      <th></th>\n",
       "      <th></th>\n",
       "      <th></th>\n",
       "      <th></th>\n",
       "      <th></th>\n",
       "      <th></th>\n",
       "      <th></th>\n",
       "      <th></th>\n",
       "      <th></th>\n",
       "      <th></th>\n",
       "      <th></th>\n",
       "      <th></th>\n",
       "      <th></th>\n",
       "      <th></th>\n",
       "      <th></th>\n",
       "      <th></th>\n",
       "      <th></th>\n",
       "      <th></th>\n",
       "    </tr>\n",
       "  </thead>\n",
       "  <tbody>\n",
       "    <tr>\n",
       "      <th>619</th>\n",
       "      <td>20</td>\n",
       "      <td>RL</td>\n",
       "      <td>11694</td>\n",
       "      <td>Pave</td>\n",
       "      <td>Reg</td>\n",
       "      <td>Lvl</td>\n",
       "      <td>AllPub</td>\n",
       "      <td>Inside</td>\n",
       "      <td>Gtl</td>\n",
       "      <td>NridgHt</td>\n",
       "      <td>...</td>\n",
       "      <td>108</td>\n",
       "      <td>0</td>\n",
       "      <td>0</td>\n",
       "      <td>260</td>\n",
       "      <td>0</td>\n",
       "      <td>0</td>\n",
       "      <td>7</td>\n",
       "      <td>2007</td>\n",
       "      <td>New</td>\n",
       "      <td>Partial</td>\n",
       "    </tr>\n",
       "    <tr>\n",
       "      <th>871</th>\n",
       "      <td>20</td>\n",
       "      <td>RL</td>\n",
       "      <td>6600</td>\n",
       "      <td>Pave</td>\n",
       "      <td>Reg</td>\n",
       "      <td>Lvl</td>\n",
       "      <td>AllPub</td>\n",
       "      <td>Inside</td>\n",
       "      <td>Gtl</td>\n",
       "      <td>NAmes</td>\n",
       "      <td>...</td>\n",
       "      <td>0</td>\n",
       "      <td>0</td>\n",
       "      <td>0</td>\n",
       "      <td>0</td>\n",
       "      <td>0</td>\n",
       "      <td>0</td>\n",
       "      <td>8</td>\n",
       "      <td>2009</td>\n",
       "      <td>WD</td>\n",
       "      <td>Normal</td>\n",
       "    </tr>\n",
       "    <tr>\n",
       "      <th>93</th>\n",
       "      <td>30</td>\n",
       "      <td>RL</td>\n",
       "      <td>13360</td>\n",
       "      <td>Pave</td>\n",
       "      <td>IR1</td>\n",
       "      <td>HLS</td>\n",
       "      <td>AllPub</td>\n",
       "      <td>Inside</td>\n",
       "      <td>Gtl</td>\n",
       "      <td>Crawfor</td>\n",
       "      <td>...</td>\n",
       "      <td>0</td>\n",
       "      <td>44</td>\n",
       "      <td>0</td>\n",
       "      <td>0</td>\n",
       "      <td>0</td>\n",
       "      <td>0</td>\n",
       "      <td>8</td>\n",
       "      <td>2009</td>\n",
       "      <td>WD</td>\n",
       "      <td>Normal</td>\n",
       "    </tr>\n",
       "    <tr>\n",
       "      <th>818</th>\n",
       "      <td>20</td>\n",
       "      <td>RL</td>\n",
       "      <td>13265</td>\n",
       "      <td>Pave</td>\n",
       "      <td>IR1</td>\n",
       "      <td>Lvl</td>\n",
       "      <td>AllPub</td>\n",
       "      <td>CulDSac</td>\n",
       "      <td>Gtl</td>\n",
       "      <td>Mitchel</td>\n",
       "      <td>...</td>\n",
       "      <td>59</td>\n",
       "      <td>0</td>\n",
       "      <td>0</td>\n",
       "      <td>0</td>\n",
       "      <td>0</td>\n",
       "      <td>0</td>\n",
       "      <td>7</td>\n",
       "      <td>2008</td>\n",
       "      <td>WD</td>\n",
       "      <td>Normal</td>\n",
       "    </tr>\n",
       "    <tr>\n",
       "      <th>303</th>\n",
       "      <td>20</td>\n",
       "      <td>RL</td>\n",
       "      <td>13704</td>\n",
       "      <td>Pave</td>\n",
       "      <td>IR1</td>\n",
       "      <td>Lvl</td>\n",
       "      <td>AllPub</td>\n",
       "      <td>Corner</td>\n",
       "      <td>Gtl</td>\n",
       "      <td>CollgCr</td>\n",
       "      <td>...</td>\n",
       "      <td>81</td>\n",
       "      <td>0</td>\n",
       "      <td>0</td>\n",
       "      <td>0</td>\n",
       "      <td>0</td>\n",
       "      <td>0</td>\n",
       "      <td>1</td>\n",
       "      <td>2006</td>\n",
       "      <td>WD</td>\n",
       "      <td>Normal</td>\n",
       "    </tr>\n",
       "  </tbody>\n",
       "</table>\n",
       "<p>5 rows × 60 columns</p>\n",
       "</div>"
      ],
      "text/plain": [
       "     MSSubClass MSZoning  LotArea Street LotShape LandContour Utilities  \\\n",
       "Id                                                                        \n",
       "619          20       RL    11694   Pave      Reg         Lvl    AllPub   \n",
       "871          20       RL     6600   Pave      Reg         Lvl    AllPub   \n",
       "93           30       RL    13360   Pave      IR1         HLS    AllPub   \n",
       "818          20       RL    13265   Pave      IR1         Lvl    AllPub   \n",
       "303          20       RL    13704   Pave      IR1         Lvl    AllPub   \n",
       "\n",
       "    LotConfig LandSlope Neighborhood  ... OpenPorchSF EnclosedPorch 3SsnPorch  \\\n",
       "Id                                    ...                                       \n",
       "619    Inside       Gtl      NridgHt  ...         108             0         0   \n",
       "871    Inside       Gtl        NAmes  ...           0             0         0   \n",
       "93     Inside       Gtl      Crawfor  ...           0            44         0   \n",
       "818   CulDSac       Gtl      Mitchel  ...          59             0         0   \n",
       "303    Corner       Gtl      CollgCr  ...          81             0         0   \n",
       "\n",
       "    ScreenPorch  PoolArea  MiscVal  MoSold  YrSold SaleType SaleCondition  \n",
       "Id                                                                         \n",
       "619         260         0        0       7    2007      New       Partial  \n",
       "871           0         0        0       8    2009       WD        Normal  \n",
       "93            0         0        0       8    2009       WD        Normal  \n",
       "818           0         0        0       7    2008       WD        Normal  \n",
       "303           0         0        0       1    2006       WD        Normal  \n",
       "\n",
       "[5 rows x 60 columns]"
      ]
     },
     "execution_count": 3,
     "metadata": {},
     "output_type": "execute_result"
    }
   ],
   "source": [
    "X_train.head()"
   ]
  },
  {
   "cell_type": "markdown",
   "id": "10a00a2d",
   "metadata": {
    "papermill": {
     "duration": 0.006436,
     "end_time": "2025-10-01T05:53:56.212520",
     "exception": false,
     "start_time": "2025-10-01T05:53:56.206084",
     "status": "completed"
    },
    "tags": []
   },
   "source": [
    "Notice that the dataset contains both numerical and categorical variables.  You'll need to encode the categorical data before training a model.\n",
    "\n",
    "To compare different models, you'll use the same `score_dataset()` function from the tutorial.  This function reports the [mean absolute error](https://en.wikipedia.org/wiki/Mean_absolute_error) (MAE) from a random forest model."
   ]
  },
  {
   "cell_type": "code",
   "execution_count": 4,
   "id": "57f6cefd",
   "metadata": {
    "execution": {
     "iopub.execute_input": "2025-10-01T05:53:56.227660Z",
     "iopub.status.busy": "2025-10-01T05:53:56.226719Z",
     "iopub.status.idle": "2025-10-01T05:53:56.628982Z",
     "shell.execute_reply": "2025-10-01T05:53:56.628053Z"
    },
    "papermill": {
     "duration": 0.411777,
     "end_time": "2025-10-01T05:53:56.630866",
     "exception": false,
     "start_time": "2025-10-01T05:53:56.219089",
     "status": "completed"
    },
    "tags": []
   },
   "outputs": [],
   "source": [
    "from sklearn.ensemble import RandomForestRegressor\n",
    "from sklearn.metrics import mean_absolute_error\n",
    "\n",
    "# function for comparing different approaches\n",
    "def score_dataset(X_train, X_valid, y_train, y_valid):\n",
    "    model = RandomForestRegressor(n_estimators=100, random_state=0)\n",
    "    model.fit(X_train, y_train)\n",
    "    preds = model.predict(X_valid)\n",
    "    return mean_absolute_error(y_valid, preds)"
   ]
  },
  {
   "cell_type": "markdown",
   "id": "b7fca52f",
   "metadata": {
    "papermill": {
     "duration": 0.006478,
     "end_time": "2025-10-01T05:53:56.644155",
     "exception": false,
     "start_time": "2025-10-01T05:53:56.637677",
     "status": "completed"
    },
    "tags": []
   },
   "source": [
    "# Step 1: Drop columns with categorical data\n",
    "\n",
    "You'll get started with the most straightforward approach.  Use the code cell below to preprocess the data in `X_train` and `X_valid` to remove columns with categorical data.  Set the preprocessed DataFrames to `drop_X_train` and `drop_X_valid`, respectively.  "
   ]
  },
  {
   "cell_type": "code",
   "execution_count": 5,
   "id": "0019e6cb",
   "metadata": {
    "execution": {
     "iopub.execute_input": "2025-10-01T05:53:56.658485Z",
     "iopub.status.busy": "2025-10-01T05:53:56.658168Z",
     "iopub.status.idle": "2025-10-01T05:53:56.667475Z",
     "shell.execute_reply": "2025-10-01T05:53:56.666585Z"
    },
    "papermill": {
     "duration": 0.018076,
     "end_time": "2025-10-01T05:53:56.668793",
     "exception": false,
     "start_time": "2025-10-01T05:53:56.650717",
     "status": "completed"
    },
    "tags": []
   },
   "outputs": [
    {
     "data": {
      "application/javascript": [
       "parent.postMessage({\"jupyterEvent\": \"custom.exercise_interaction\", \"data\": {\"outcomeType\": 1, \"valueTowardsCompletion\": 0.5, \"interactionType\": 1, \"questionType\": 2, \"questionId\": \"1_Drop\", \"learnToolsVersion\": \"0.3.5\", \"failureMessage\": \"\", \"exceptionClass\": \"\", \"trace\": \"\"}}, \"*\")"
      ],
      "text/plain": [
       "<IPython.core.display.Javascript object>"
      ]
     },
     "metadata": {},
     "output_type": "display_data"
    },
    {
     "data": {
      "text/markdown": [
       "<span style=\"color:#33cc33\">Correct</span>"
      ],
      "text/plain": [
       "Correct"
      ]
     },
     "metadata": {},
     "output_type": "display_data"
    }
   ],
   "source": [
    "# Fill in the lines below: drop columns in training and validation data\n",
    "drop_X_train = X_train.select_dtypes(exclude=['object'])\n",
    "drop_X_valid = X_valid.select_dtypes(exclude=['object'])\n",
    "\n",
    "# Check your answers\n",
    "step_1.check()"
   ]
  },
  {
   "cell_type": "code",
   "execution_count": 6,
   "id": "2c71d2ad",
   "metadata": {
    "execution": {
     "iopub.execute_input": "2025-10-01T05:53:56.684132Z",
     "iopub.status.busy": "2025-10-01T05:53:56.683273Z",
     "iopub.status.idle": "2025-10-01T05:53:56.687616Z",
     "shell.execute_reply": "2025-10-01T05:53:56.686543Z"
    },
    "papermill": {
     "duration": 0.013498,
     "end_time": "2025-10-01T05:53:56.688933",
     "exception": false,
     "start_time": "2025-10-01T05:53:56.675435",
     "status": "completed"
    },
    "tags": []
   },
   "outputs": [],
   "source": [
    "# Lines below will give you a hint or solution code\n",
    "#step_1.hint()\n",
    "#step_1.solution()"
   ]
  },
  {
   "cell_type": "markdown",
   "id": "bf1dca12",
   "metadata": {
    "papermill": {
     "duration": 0.006584,
     "end_time": "2025-10-01T05:53:56.702308",
     "exception": false,
     "start_time": "2025-10-01T05:53:56.695724",
     "status": "completed"
    },
    "tags": []
   },
   "source": [
    "Run the next code cell to get the MAE for this approach."
   ]
  },
  {
   "cell_type": "code",
   "execution_count": 7,
   "id": "c5a2851c",
   "metadata": {
    "execution": {
     "iopub.execute_input": "2025-10-01T05:53:56.716886Z",
     "iopub.status.busy": "2025-10-01T05:53:56.716583Z",
     "iopub.status.idle": "2025-10-01T05:53:57.900604Z",
     "shell.execute_reply": "2025-10-01T05:53:57.899395Z"
    },
    "papermill": {
     "duration": 1.193286,
     "end_time": "2025-10-01T05:53:57.902173",
     "exception": false,
     "start_time": "2025-10-01T05:53:56.708887",
     "status": "completed"
    },
    "tags": []
   },
   "outputs": [
    {
     "name": "stdout",
     "output_type": "stream",
     "text": [
      "MAE from Approach 1 (Drop categorical variables):\n",
      "17837.82570776256\n"
     ]
    }
   ],
   "source": [
    "print(\"MAE from Approach 1 (Drop categorical variables):\")\n",
    "print(score_dataset(drop_X_train, drop_X_valid, y_train, y_valid))"
   ]
  },
  {
   "cell_type": "markdown",
   "id": "ce8c34c1",
   "metadata": {
    "papermill": {
     "duration": 0.007165,
     "end_time": "2025-10-01T05:53:57.916598",
     "exception": false,
     "start_time": "2025-10-01T05:53:57.909433",
     "status": "completed"
    },
    "tags": []
   },
   "source": [
    "Before jumping into ordinal encoding, we'll investigate the dataset.  Specifically, we'll look at the `'Condition2'` column.  The code cell below prints the unique entries in both the training and validation sets."
   ]
  },
  {
   "cell_type": "code",
   "execution_count": 8,
   "id": "3abcad17",
   "metadata": {
    "execution": {
     "iopub.execute_input": "2025-10-01T05:53:57.931857Z",
     "iopub.status.busy": "2025-10-01T05:53:57.931522Z",
     "iopub.status.idle": "2025-10-01T05:53:57.938515Z",
     "shell.execute_reply": "2025-10-01T05:53:57.937567Z"
    },
    "papermill": {
     "duration": 0.016177,
     "end_time": "2025-10-01T05:53:57.939820",
     "exception": false,
     "start_time": "2025-10-01T05:53:57.923643",
     "status": "completed"
    },
    "tags": []
   },
   "outputs": [
    {
     "name": "stdout",
     "output_type": "stream",
     "text": [
      "Unique values in 'Condition2' column in training data: ['Norm' 'PosA' 'Feedr' 'PosN' 'Artery' 'RRAe']\n",
      "\n",
      "Unique values in 'Condition2' column in validation data: ['Norm' 'RRAn' 'RRNn' 'Artery' 'Feedr' 'PosN']\n"
     ]
    }
   ],
   "source": [
    "print(\"Unique values in 'Condition2' column in training data:\", X_train['Condition2'].unique())\n",
    "print(\"\\nUnique values in 'Condition2' column in validation data:\", X_valid['Condition2'].unique())"
   ]
  },
  {
   "cell_type": "markdown",
   "id": "e9aa7f54",
   "metadata": {
    "papermill": {
     "duration": 0.006652,
     "end_time": "2025-10-01T05:53:57.953360",
     "exception": false,
     "start_time": "2025-10-01T05:53:57.946708",
     "status": "completed"
    },
    "tags": []
   },
   "source": [
    "# Step 2: Ordinal encoding\n",
    "\n",
    "### Part A\n",
    "\n",
    "If you now write code to: \n",
    "- fit an ordinal encoder to the training data, and then \n",
    "- use it to transform both the training and validation data, \n",
    "\n",
    "you'll get an error.  Can you see why this is the case?  (_You'll need  to use the above output to answer this question._)"
   ]
  },
  {
   "cell_type": "code",
   "execution_count": 9,
   "id": "395cd69c",
   "metadata": {
    "execution": {
     "iopub.execute_input": "2025-10-01T05:53:57.968510Z",
     "iopub.status.busy": "2025-10-01T05:53:57.968138Z",
     "iopub.status.idle": "2025-10-01T05:53:57.974911Z",
     "shell.execute_reply": "2025-10-01T05:53:57.974265Z"
    },
    "papermill": {
     "duration": 0.015987,
     "end_time": "2025-10-01T05:53:57.976227",
     "exception": false,
     "start_time": "2025-10-01T05:53:57.960240",
     "status": "completed"
    },
    "tags": []
   },
   "outputs": [
    {
     "data": {
      "application/javascript": [
       "parent.postMessage({\"jupyterEvent\": \"custom.exercise_interaction\", \"data\": {\"outcomeType\": 1, \"valueTowardsCompletion\": 0.5, \"interactionType\": 1, \"questionType\": 4, \"questionId\": \"2.1_LabelA\", \"learnToolsVersion\": \"0.3.5\", \"failureMessage\": \"\", \"exceptionClass\": \"\", \"trace\": \"\"}}, \"*\")"
      ],
      "text/plain": [
       "<IPython.core.display.Javascript object>"
      ]
     },
     "metadata": {},
     "output_type": "display_data"
    },
    {
     "data": {
      "text/markdown": [
       "<span style=\"color:#33cc33\">Correct:</span> \n",
       "\n",
       "Fitting an ordinal encoder to a column in the training data creates a corresponding integer-valued label for each unique value **that appears in the training data**. In the case that the validation data contains values that don't also appear in the training data, the encoder will throw an error, because these values won't have an integer assigned to them.  Notice that the `'Condition2'` column in the validation data contains the values `'RRAn'` and `'RRNn'`, but these don't appear in the training data -- thus, if we try to use an ordinal encoder with scikit-learn, the code will throw an error."
      ],
      "text/plain": [
       "Correct: \n",
       "\n",
       "Fitting an ordinal encoder to a column in the training data creates a corresponding integer-valued label for each unique value **that appears in the training data**. In the case that the validation data contains values that don't also appear in the training data, the encoder will throw an error, because these values won't have an integer assigned to them.  Notice that the `'Condition2'` column in the validation data contains the values `'RRAn'` and `'RRNn'`, but these don't appear in the training data -- thus, if we try to use an ordinal encoder with scikit-learn, the code will throw an error."
      ]
     },
     "metadata": {},
     "output_type": "display_data"
    }
   ],
   "source": [
    "# Check your answer (Run this code cell to receive credit!)\n",
    "step_2.a.check()"
   ]
  },
  {
   "cell_type": "code",
   "execution_count": 10,
   "id": "660c4a2d",
   "metadata": {
    "execution": {
     "iopub.execute_input": "2025-10-01T05:53:57.991807Z",
     "iopub.status.busy": "2025-10-01T05:53:57.991534Z",
     "iopub.status.idle": "2025-10-01T05:53:57.995755Z",
     "shell.execute_reply": "2025-10-01T05:53:57.994696Z"
    },
    "papermill": {
     "duration": 0.013682,
     "end_time": "2025-10-01T05:53:57.997231",
     "exception": false,
     "start_time": "2025-10-01T05:53:57.983549",
     "status": "completed"
    },
    "tags": []
   },
   "outputs": [],
   "source": [
    "#step_2.a.hint()"
   ]
  },
  {
   "cell_type": "markdown",
   "id": "5f29f8ff",
   "metadata": {
    "papermill": {
     "duration": 0.007017,
     "end_time": "2025-10-01T05:53:58.011858",
     "exception": false,
     "start_time": "2025-10-01T05:53:58.004841",
     "status": "completed"
    },
    "tags": []
   },
   "source": [
    "This is a common problem that you'll encounter with real-world data, and there are many approaches to fixing this issue.  For instance, you can write a custom ordinal encoder to deal with new categories.  The simplest approach, however, is to drop the problematic categorical columns.  \n",
    "\n",
    "Run the code cell below to save the problematic columns to a Python list `bad_label_cols`.  Likewise, columns that can be safely ordinal encoded are stored in `good_label_cols`."
   ]
  },
  {
   "cell_type": "code",
   "execution_count": 11,
   "id": "2b2fa611",
   "metadata": {
    "execution": {
     "iopub.execute_input": "2025-10-01T05:53:58.027443Z",
     "iopub.status.busy": "2025-10-01T05:53:58.027094Z",
     "iopub.status.idle": "2025-10-01T05:53:58.039239Z",
     "shell.execute_reply": "2025-10-01T05:53:58.038052Z"
    },
    "papermill": {
     "duration": 0.021471,
     "end_time": "2025-10-01T05:53:58.040562",
     "exception": false,
     "start_time": "2025-10-01T05:53:58.019091",
     "status": "completed"
    },
    "tags": []
   },
   "outputs": [
    {
     "name": "stdout",
     "output_type": "stream",
     "text": [
      "Categorical columns that will be ordinal encoded: ['MSZoning', 'Street', 'LotShape', 'LandContour', 'Utilities', 'LotConfig', 'LandSlope', 'Neighborhood', 'Condition1', 'BldgType', 'HouseStyle', 'RoofStyle', 'Exterior1st', 'Exterior2nd', 'ExterQual', 'ExterCond', 'Foundation', 'Heating', 'HeatingQC', 'CentralAir', 'KitchenQual', 'PavedDrive', 'SaleType', 'SaleCondition']\n",
      "\n",
      "Categorical columns that will be dropped from the dataset: ['RoofMatl', 'Condition2', 'Functional']\n"
     ]
    }
   ],
   "source": [
    "# Categorical columns in the training data\n",
    "object_cols = [col for col in X_train.columns if X_train[col].dtype == \"object\"]\n",
    "\n",
    "# Columns that can be safely ordinal encoded\n",
    "good_label_cols = [col for col in object_cols if \n",
    "                   set(X_valid[col]).issubset(set(X_train[col]))]\n",
    "        \n",
    "# Problematic columns that will be dropped from the dataset\n",
    "bad_label_cols = list(set(object_cols)-set(good_label_cols))\n",
    "        \n",
    "print('Categorical columns that will be ordinal encoded:', good_label_cols)\n",
    "print('\\nCategorical columns that will be dropped from the dataset:', bad_label_cols)"
   ]
  },
  {
   "cell_type": "markdown",
   "id": "4cff0ac1",
   "metadata": {
    "papermill": {
     "duration": 0.006756,
     "end_time": "2025-10-01T05:53:58.054437",
     "exception": false,
     "start_time": "2025-10-01T05:53:58.047681",
     "status": "completed"
    },
    "tags": []
   },
   "source": [
    "### Part B\n",
    "\n",
    "Use the next code cell to ordinal encode the data in `X_train` and `X_valid`.  Set the preprocessed DataFrames to `label_X_train` and `label_X_valid`, respectively.  \n",
    "- We have provided code below to drop the categorical columns in `bad_label_cols` from the dataset. \n",
    "- You should ordinal encode the categorical columns in `good_label_cols`.  "
   ]
  },
  {
   "cell_type": "code",
   "execution_count": 12,
   "id": "e9f37554",
   "metadata": {
    "execution": {
     "iopub.execute_input": "2025-10-01T05:53:58.070647Z",
     "iopub.status.busy": "2025-10-01T05:53:58.069806Z",
     "iopub.status.idle": "2025-10-01T05:53:58.105787Z",
     "shell.execute_reply": "2025-10-01T05:53:58.104890Z"
    },
    "papermill": {
     "duration": 0.045812,
     "end_time": "2025-10-01T05:53:58.107219",
     "exception": false,
     "start_time": "2025-10-01T05:53:58.061407",
     "status": "completed"
    },
    "tags": []
   },
   "outputs": [
    {
     "data": {
      "application/javascript": [
       "parent.postMessage({\"jupyterEvent\": \"custom.exercise_interaction\", \"data\": {\"outcomeType\": 1, \"valueTowardsCompletion\": 0.5, \"interactionType\": 1, \"questionType\": 2, \"questionId\": \"2.2_LabelB\", \"learnToolsVersion\": \"0.3.5\", \"failureMessage\": \"\", \"exceptionClass\": \"\", \"trace\": \"\"}}, \"*\")"
      ],
      "text/plain": [
       "<IPython.core.display.Javascript object>"
      ]
     },
     "metadata": {},
     "output_type": "display_data"
    },
    {
     "data": {
      "text/markdown": [
       "<span style=\"color:#33cc33\">Correct</span>"
      ],
      "text/plain": [
       "Correct"
      ]
     },
     "metadata": {},
     "output_type": "display_data"
    }
   ],
   "source": [
    "from sklearn.preprocessing import OrdinalEncoder\n",
    "\n",
    "# Drop categorical columns that will not be encoded\n",
    "label_X_train = X_train.drop(bad_label_cols, axis=1)\n",
    "label_X_valid = X_valid.drop(bad_label_cols, axis=1)\n",
    "\n",
    "# Apply ordinal encoder \n",
    "ordinal_encoder=OrdinalEncoder()\n",
    "label_X_train[good_label_cols] = ordinal_encoder.fit_transform(X_train[good_label_cols])\n",
    "label_X_valid[good_label_cols] = ordinal_encoder.transform(X_valid[good_label_cols])\n",
    "\n",
    "# Check your answer\n",
    "step_2.b.check()"
   ]
  },
  {
   "cell_type": "code",
   "execution_count": 13,
   "id": "462637c6",
   "metadata": {
    "execution": {
     "iopub.execute_input": "2025-10-01T05:53:58.124206Z",
     "iopub.status.busy": "2025-10-01T05:53:58.123184Z",
     "iopub.status.idle": "2025-10-01T05:53:58.127093Z",
     "shell.execute_reply": "2025-10-01T05:53:58.126386Z"
    },
    "papermill": {
     "duration": 0.013656,
     "end_time": "2025-10-01T05:53:58.128529",
     "exception": false,
     "start_time": "2025-10-01T05:53:58.114873",
     "status": "completed"
    },
    "tags": []
   },
   "outputs": [],
   "source": [
    "# Lines below will give you a hint or solution code\n",
    "#step_2.b.hint()\n",
    "#step_2.b.solution()"
   ]
  },
  {
   "cell_type": "markdown",
   "id": "ce559b41",
   "metadata": {
    "papermill": {
     "duration": 0.007082,
     "end_time": "2025-10-01T05:53:58.142973",
     "exception": false,
     "start_time": "2025-10-01T05:53:58.135891",
     "status": "completed"
    },
    "tags": []
   },
   "source": [
    "Run the next code cell to get the MAE for this approach."
   ]
  },
  {
   "cell_type": "code",
   "execution_count": 14,
   "id": "7cf011f7",
   "metadata": {
    "execution": {
     "iopub.execute_input": "2025-10-01T05:53:58.158863Z",
     "iopub.status.busy": "2025-10-01T05:53:58.158558Z",
     "iopub.status.idle": "2025-10-01T05:53:59.645020Z",
     "shell.execute_reply": "2025-10-01T05:53:59.644049Z"
    },
    "papermill": {
     "duration": 1.496409,
     "end_time": "2025-10-01T05:53:59.646589",
     "exception": false,
     "start_time": "2025-10-01T05:53:58.150180",
     "status": "completed"
    },
    "tags": []
   },
   "outputs": [
    {
     "name": "stdout",
     "output_type": "stream",
     "text": [
      "MAE from Approach 2 (Ordinal Encoding):\n",
      "17098.01649543379\n"
     ]
    }
   ],
   "source": [
    "print(\"MAE from Approach 2 (Ordinal Encoding):\") \n",
    "print(score_dataset(label_X_train, label_X_valid, y_train, y_valid))"
   ]
  },
  {
   "cell_type": "markdown",
   "id": "26e2a770",
   "metadata": {
    "papermill": {
     "duration": 0.007286,
     "end_time": "2025-10-01T05:53:59.723568",
     "exception": false,
     "start_time": "2025-10-01T05:53:59.716282",
     "status": "completed"
    },
    "tags": []
   },
   "source": [
    "So far, you've tried two different approaches to dealing with categorical variables.  And, you've seen that encoding categorical data yields better results than removing columns from the dataset.\n",
    "\n",
    "Soon, you'll try one-hot encoding.  Before then, there's one additional topic we need to cover.  Begin by running the next code cell without changes.  "
   ]
  },
  {
   "cell_type": "code",
   "execution_count": 15,
   "id": "cd3b5916",
   "metadata": {
    "execution": {
     "iopub.execute_input": "2025-10-01T05:53:59.739856Z",
     "iopub.status.busy": "2025-10-01T05:53:59.739564Z",
     "iopub.status.idle": "2025-10-01T05:53:59.750338Z",
     "shell.execute_reply": "2025-10-01T05:53:59.749538Z"
    },
    "papermill": {
     "duration": 0.020567,
     "end_time": "2025-10-01T05:53:59.751795",
     "exception": false,
     "start_time": "2025-10-01T05:53:59.731228",
     "status": "completed"
    },
    "tags": []
   },
   "outputs": [
    {
     "data": {
      "text/plain": [
       "[('Street', 2),\n",
       " ('Utilities', 2),\n",
       " ('CentralAir', 2),\n",
       " ('LandSlope', 3),\n",
       " ('PavedDrive', 3),\n",
       " ('LotShape', 4),\n",
       " ('LandContour', 4),\n",
       " ('ExterQual', 4),\n",
       " ('KitchenQual', 4),\n",
       " ('MSZoning', 5),\n",
       " ('LotConfig', 5),\n",
       " ('BldgType', 5),\n",
       " ('ExterCond', 5),\n",
       " ('HeatingQC', 5),\n",
       " ('Condition2', 6),\n",
       " ('RoofStyle', 6),\n",
       " ('Foundation', 6),\n",
       " ('Heating', 6),\n",
       " ('Functional', 6),\n",
       " ('SaleCondition', 6),\n",
       " ('RoofMatl', 7),\n",
       " ('HouseStyle', 8),\n",
       " ('Condition1', 9),\n",
       " ('SaleType', 9),\n",
       " ('Exterior1st', 15),\n",
       " ('Exterior2nd', 16),\n",
       " ('Neighborhood', 25)]"
      ]
     },
     "execution_count": 15,
     "metadata": {},
     "output_type": "execute_result"
    }
   ],
   "source": [
    "# Get number of unique entries in each column with categorical data\n",
    "object_nunique = list(map(lambda col: X_train[col].nunique(), object_cols))\n",
    "d = dict(zip(object_cols, object_nunique))\n",
    "\n",
    "# Print number of unique entries by column, in ascending order\n",
    "sorted(d.items(), key=lambda x: x[1])"
   ]
  },
  {
   "cell_type": "markdown",
   "id": "28ef1937",
   "metadata": {
    "papermill": {
     "duration": 0.007526,
     "end_time": "2025-10-01T05:53:59.767981",
     "exception": false,
     "start_time": "2025-10-01T05:53:59.760455",
     "status": "completed"
    },
    "tags": []
   },
   "source": [
    "# Step 3: Investigating cardinality\n",
    "\n",
    "### Part A\n",
    "\n",
    "The output above shows, for each column with categorical data, the number of unique values in the column.  For instance, the `'Street'` column in the training data has two unique values: `'Grvl'` and `'Pave'`, corresponding to a gravel road and a paved road, respectively.\n",
    "\n",
    "We refer to the number of unique entries of a categorical variable as the **cardinality** of that categorical variable.  For instance, the `'Street'` variable has cardinality 2.\n",
    "\n",
    "Use the output above to answer the questions below."
   ]
  },
  {
   "cell_type": "code",
   "execution_count": 16,
   "id": "e54e014f",
   "metadata": {
    "execution": {
     "iopub.execute_input": "2025-10-01T05:53:59.784903Z",
     "iopub.status.busy": "2025-10-01T05:53:59.784598Z",
     "iopub.status.idle": "2025-10-01T05:53:59.792343Z",
     "shell.execute_reply": "2025-10-01T05:53:59.791509Z"
    },
    "papermill": {
     "duration": 0.017828,
     "end_time": "2025-10-01T05:53:59.793705",
     "exception": false,
     "start_time": "2025-10-01T05:53:59.775877",
     "status": "completed"
    },
    "tags": []
   },
   "outputs": [
    {
     "data": {
      "application/javascript": [
       "parent.postMessage({\"jupyterEvent\": \"custom.exercise_interaction\", \"data\": {\"outcomeType\": 1, \"valueTowardsCompletion\": 0.5, \"interactionType\": 1, \"questionType\": 1, \"questionId\": \"3.1_CardinalityA\", \"learnToolsVersion\": \"0.3.5\", \"failureMessage\": \"\", \"exceptionClass\": \"\", \"trace\": \"\"}}, \"*\")"
      ],
      "text/plain": [
       "<IPython.core.display.Javascript object>"
      ]
     },
     "metadata": {},
     "output_type": "display_data"
    },
    {
     "data": {
      "text/markdown": [
       "<span style=\"color:#33cc33\">Correct</span>"
      ],
      "text/plain": [
       "Correct"
      ]
     },
     "metadata": {},
     "output_type": "display_data"
    }
   ],
   "source": [
    "# Fill in the line below: How many categorical variables in the training data\n",
    "# have cardinality greater than 10?\n",
    "high_cardinality_numcols = 3\n",
    "\n",
    "# Fill in the line below: How many columns are needed to one-hot encode the \n",
    "# 'Neighborhood' variable in the training data?\n",
    "num_cols_neighborhood = 25\n",
    "\n",
    "# Check your answers\n",
    "step_3.a.check()"
   ]
  },
  {
   "cell_type": "code",
   "execution_count": 17,
   "id": "d7c9add7",
   "metadata": {
    "execution": {
     "iopub.execute_input": "2025-10-01T05:53:59.810854Z",
     "iopub.status.busy": "2025-10-01T05:53:59.810548Z",
     "iopub.status.idle": "2025-10-01T05:53:59.814337Z",
     "shell.execute_reply": "2025-10-01T05:53:59.813488Z"
    },
    "papermill": {
     "duration": 0.013836,
     "end_time": "2025-10-01T05:53:59.815689",
     "exception": false,
     "start_time": "2025-10-01T05:53:59.801853",
     "status": "completed"
    },
    "tags": []
   },
   "outputs": [],
   "source": [
    "# Lines below will give you a hint or solution code\n",
    "#step_3.a.hint()\n",
    "#step_3.a.solution()"
   ]
  },
  {
   "cell_type": "markdown",
   "id": "b9ca9552",
   "metadata": {
    "papermill": {
     "duration": 0.007738,
     "end_time": "2025-10-01T05:53:59.832860",
     "exception": false,
     "start_time": "2025-10-01T05:53:59.825122",
     "status": "completed"
    },
    "tags": []
   },
   "source": [
    "### Part B\n",
    "\n",
    "For large datasets with many rows, one-hot encoding can greatly expand the size of the dataset.  For this reason, we typically will only one-hot encode columns with relatively low cardinality.  Then, high cardinality columns can either be dropped from the dataset, or we can use ordinal encoding.\n",
    "\n",
    "As an example, consider a dataset with 10,000 rows, and containing one categorical column with 100 unique entries.  \n",
    "- If this column is replaced with the corresponding one-hot encoding, how many entries are added to the dataset?  \n",
    "- If we instead replace the column with the ordinal encoding, how many entries are added?  \n",
    "\n",
    "Use your answers to fill in the lines below."
   ]
  },
  {
   "cell_type": "code",
   "execution_count": 18,
   "id": "56a3999e",
   "metadata": {
    "execution": {
     "iopub.execute_input": "2025-10-01T05:53:59.850163Z",
     "iopub.status.busy": "2025-10-01T05:53:59.849847Z",
     "iopub.status.idle": "2025-10-01T05:53:59.857150Z",
     "shell.execute_reply": "2025-10-01T05:53:59.856374Z"
    },
    "papermill": {
     "duration": 0.01782,
     "end_time": "2025-10-01T05:53:59.858677",
     "exception": false,
     "start_time": "2025-10-01T05:53:59.840857",
     "status": "completed"
    },
    "tags": []
   },
   "outputs": [
    {
     "data": {
      "application/javascript": [
       "parent.postMessage({\"jupyterEvent\": \"custom.exercise_interaction\", \"data\": {\"outcomeType\": 1, \"valueTowardsCompletion\": 0.5, \"interactionType\": 1, \"questionType\": 1, \"questionId\": \"3.2_CardinalityB\", \"learnToolsVersion\": \"0.3.5\", \"failureMessage\": \"\", \"exceptionClass\": \"\", \"trace\": \"\"}}, \"*\")"
      ],
      "text/plain": [
       "<IPython.core.display.Javascript object>"
      ]
     },
     "metadata": {},
     "output_type": "display_data"
    },
    {
     "data": {
      "text/markdown": [
       "<span style=\"color:#33cc33\">Correct</span>"
      ],
      "text/plain": [
       "Correct"
      ]
     },
     "metadata": {},
     "output_type": "display_data"
    }
   ],
   "source": [
    "# Fill in the line below: How many entries are added to the dataset by \n",
    "# replacing the column with a one-hot encoding?\n",
    "OH_entries_added = 1e4*100 - 1e4\n",
    "\n",
    "# Fill in the line below: How many entries are added to the dataset by\n",
    "# replacing the column with an ordinal encoding?\n",
    "label_entries_added = 0\n",
    "\n",
    "# Check your answers\n",
    "step_3.b.check()"
   ]
  },
  {
   "cell_type": "code",
   "execution_count": 19,
   "id": "7298f2fe",
   "metadata": {
    "execution": {
     "iopub.execute_input": "2025-10-01T05:53:59.876217Z",
     "iopub.status.busy": "2025-10-01T05:53:59.875880Z",
     "iopub.status.idle": "2025-10-01T05:53:59.879816Z",
     "shell.execute_reply": "2025-10-01T05:53:59.879106Z"
    },
    "papermill": {
     "duration": 0.014336,
     "end_time": "2025-10-01T05:53:59.881200",
     "exception": false,
     "start_time": "2025-10-01T05:53:59.866864",
     "status": "completed"
    },
    "tags": []
   },
   "outputs": [],
   "source": [
    "# Lines below will give you a hint or solution code\n",
    "#step_3.b.hint()\n",
    "#step_3.b.solution()"
   ]
  },
  {
   "cell_type": "markdown",
   "id": "8cbdf36e",
   "metadata": {
    "papermill": {
     "duration": 0.007684,
     "end_time": "2025-10-01T05:53:59.897189",
     "exception": false,
     "start_time": "2025-10-01T05:53:59.889505",
     "status": "completed"
    },
    "tags": []
   },
   "source": [
    "Next, you'll experiment with one-hot encoding.  But, instead of encoding all of the categorical variables in the dataset, you'll only create a one-hot encoding for columns with cardinality less than 10.\n",
    "\n",
    "Run the code cell below without changes to set `low_cardinality_cols` to a Python list containing the columns that will be one-hot encoded.  Likewise, `high_cardinality_cols` contains a list of categorical columns that will be dropped from the dataset."
   ]
  },
  {
   "cell_type": "code",
   "execution_count": 20,
   "id": "ccbe75c6",
   "metadata": {
    "execution": {
     "iopub.execute_input": "2025-10-01T05:53:59.914412Z",
     "iopub.status.busy": "2025-10-01T05:53:59.914093Z",
     "iopub.status.idle": "2025-10-01T05:53:59.923370Z",
     "shell.execute_reply": "2025-10-01T05:53:59.922229Z"
    },
    "papermill": {
     "duration": 0.019994,
     "end_time": "2025-10-01T05:53:59.925180",
     "exception": false,
     "start_time": "2025-10-01T05:53:59.905186",
     "status": "completed"
    },
    "tags": []
   },
   "outputs": [
    {
     "name": "stdout",
     "output_type": "stream",
     "text": [
      "Categorical columns that will be one-hot encoded: ['MSZoning', 'Street', 'LotShape', 'LandContour', 'Utilities', 'LotConfig', 'LandSlope', 'Condition1', 'Condition2', 'BldgType', 'HouseStyle', 'RoofStyle', 'RoofMatl', 'ExterQual', 'ExterCond', 'Foundation', 'Heating', 'HeatingQC', 'CentralAir', 'KitchenQual', 'Functional', 'PavedDrive', 'SaleType', 'SaleCondition']\n",
      "\n",
      "Categorical columns that will be dropped from the dataset: ['Neighborhood', 'Exterior1st', 'Exterior2nd']\n"
     ]
    }
   ],
   "source": [
    "# Columns that will be one-hot encoded\n",
    "low_cardinality_cols = [col for col in object_cols if X_train[col].nunique() < 10]\n",
    "\n",
    "# Columns that will be dropped from the dataset\n",
    "high_cardinality_cols = list(set(object_cols)-set(low_cardinality_cols))\n",
    "\n",
    "print('Categorical columns that will be one-hot encoded:', low_cardinality_cols)\n",
    "print('\\nCategorical columns that will be dropped from the dataset:', high_cardinality_cols)"
   ]
  },
  {
   "cell_type": "markdown",
   "id": "76aeea97",
   "metadata": {
    "papermill": {
     "duration": 0.007777,
     "end_time": "2025-10-01T05:53:59.941295",
     "exception": false,
     "start_time": "2025-10-01T05:53:59.933518",
     "status": "completed"
    },
    "tags": []
   },
   "source": [
    "# Step 4: One-hot encoding\n",
    "\n",
    "Use the next code cell to one-hot encode the data in `X_train` and `X_valid`.  Set the preprocessed DataFrames to `OH_X_train` and `OH_X_valid`, respectively.  \n",
    "- The full list of categorical columns in the dataset can be found in the Python list `object_cols`.\n",
    "- You should only one-hot encode the categorical columns in `low_cardinality_cols`.  All other categorical columns should be dropped from the dataset. "
   ]
  },
  {
   "cell_type": "code",
   "execution_count": 21,
   "id": "c2613a7a",
   "metadata": {
    "execution": {
     "iopub.execute_input": "2025-10-01T05:53:59.959006Z",
     "iopub.status.busy": "2025-10-01T05:53:59.958159Z",
     "iopub.status.idle": "2025-10-01T05:53:59.999492Z",
     "shell.execute_reply": "2025-10-01T05:53:59.998577Z"
    },
    "papermill": {
     "duration": 0.052161,
     "end_time": "2025-10-01T05:54:00.001382",
     "exception": false,
     "start_time": "2025-10-01T05:53:59.949221",
     "status": "completed"
    },
    "tags": []
   },
   "outputs": [
    {
     "name": "stderr",
     "output_type": "stream",
     "text": [
      "/usr/local/lib/python3.11/dist-packages/sklearn/preprocessing/_encoders.py:868: FutureWarning: `sparse` was renamed to `sparse_output` in version 1.2 and will be removed in 1.4. `sparse_output` is ignored unless you leave `sparse` to its default value.\n",
      "  warnings.warn(\n"
     ]
    },
    {
     "data": {
      "application/javascript": [
       "parent.postMessage({\"jupyterEvent\": \"custom.exercise_interaction\", \"data\": {\"outcomeType\": 1, \"valueTowardsCompletion\": 0.5, \"interactionType\": 1, \"questionType\": 2, \"questionId\": \"4_OneHot\", \"learnToolsVersion\": \"0.3.5\", \"failureMessage\": \"\", \"exceptionClass\": \"\", \"trace\": \"\"}}, \"*\")"
      ],
      "text/plain": [
       "<IPython.core.display.Javascript object>"
      ]
     },
     "metadata": {},
     "output_type": "display_data"
    },
    {
     "data": {
      "text/markdown": [
       "<span style=\"color:#33cc33\">Correct</span>"
      ],
      "text/plain": [
       "Correct"
      ]
     },
     "metadata": {},
     "output_type": "display_data"
    }
   ],
   "source": [
    "from sklearn.preprocessing import OneHotEncoder\n",
    "\n",
    "# Use as many lines of code as you need!\n",
    "OH_encoder=OneHotEncoder(handle_unknown='ignore', sparse=False)\n",
    "OH_cols_train = pd.DataFrame(OH_encoder.fit_transform(X_train[low_cardinality_cols]))\n",
    "OH_cols_valid = pd.DataFrame(OH_encoder.transform(X_valid[low_cardinality_cols]))\n",
    "\n",
    "# Add index back\n",
    "OH_cols_train.index=X_train.index\n",
    "OH_cols_valid.index=X_valid.index\n",
    "\n",
    "# Remove categorical columns\n",
    "num_X_train=X_train.drop(object_cols,axis=1)\n",
    "num_X_valid=X_valid.drop(object_cols,axis=1)\n",
    "\n",
    "# Add one-hot encoded columns\n",
    "OH_X_train=pd.concat([num_X_train,OH_cols_train],axis=1)\n",
    "OH_X_valid=pd.concat([num_X_valid,OH_cols_valid],axis=1)\n",
    "\n",
    "# Ensure string type\n",
    "OH_X_train.columns=OH_X_train.columns.astype(str)\n",
    "OH_X_valid.columns=OH_X_valid.columns.astype(str)\n",
    "\n",
    "\n",
    "# Check your answer\n",
    "step_4.check()"
   ]
  },
  {
   "cell_type": "code",
   "execution_count": 22,
   "id": "f3116010",
   "metadata": {
    "execution": {
     "iopub.execute_input": "2025-10-01T05:54:00.019714Z",
     "iopub.status.busy": "2025-10-01T05:54:00.019395Z",
     "iopub.status.idle": "2025-10-01T05:54:00.023278Z",
     "shell.execute_reply": "2025-10-01T05:54:00.022400Z"
    },
    "papermill": {
     "duration": 0.015037,
     "end_time": "2025-10-01T05:54:00.025057",
     "exception": false,
     "start_time": "2025-10-01T05:54:00.010020",
     "status": "completed"
    },
    "tags": []
   },
   "outputs": [],
   "source": [
    "# Lines below will give you a hint or solution code\n",
    "#step_4.hint()\n",
    "#step_4.solution()"
   ]
  },
  {
   "cell_type": "markdown",
   "id": "04d60e9f",
   "metadata": {
    "papermill": {
     "duration": 0.008392,
     "end_time": "2025-10-01T05:54:00.041896",
     "exception": false,
     "start_time": "2025-10-01T05:54:00.033504",
     "status": "completed"
    },
    "tags": []
   },
   "source": [
    "Run the next code cell to get the MAE for this approach."
   ]
  },
  {
   "cell_type": "code",
   "execution_count": 23,
   "id": "902c42d3",
   "metadata": {
    "execution": {
     "iopub.execute_input": "2025-10-01T05:54:00.059943Z",
     "iopub.status.busy": "2025-10-01T05:54:00.059618Z",
     "iopub.status.idle": "2025-10-01T05:54:01.931418Z",
     "shell.execute_reply": "2025-10-01T05:54:01.930295Z"
    },
    "papermill": {
     "duration": 1.883069,
     "end_time": "2025-10-01T05:54:01.933217",
     "exception": false,
     "start_time": "2025-10-01T05:54:00.050148",
     "status": "completed"
    },
    "tags": []
   },
   "outputs": [
    {
     "name": "stdout",
     "output_type": "stream",
     "text": [
      "MAE from Approach 3 (One-Hot Encoding):\n",
      "17525.345719178084\n"
     ]
    }
   ],
   "source": [
    "print(\"MAE from Approach 3 (One-Hot Encoding):\") \n",
    "print(score_dataset(OH_X_train, OH_X_valid, y_train, y_valid))"
   ]
  },
  {
   "cell_type": "markdown",
   "id": "34209562",
   "metadata": {
    "papermill": {
     "duration": 0.008719,
     "end_time": "2025-10-01T05:54:01.951075",
     "exception": false,
     "start_time": "2025-10-01T05:54:01.942356",
     "status": "completed"
    },
    "tags": []
   },
   "source": [
    "# Generate test predictions and submit your results\n",
    "\n",
    "After you complete Step 4, if you'd like to use what you've learned to submit your results to the leaderboard, you'll need to preprocess the test data before generating predictions.\n",
    "\n",
    "**This step is completely optional, and you do not need to submit results to the leaderboard to successfully complete the exercise.**\n",
    "\n",
    "Check out the previous exercise if you need help with remembering how to [join the competition](https://www.kaggle.com/c/home-data-for-ml-course) or save your results to CSV.  Once you have generated a file with your results, follow the instructions below:\n",
    "1. Begin by clicking on the **Save Version** button in the top right corner of the window.  This will generate a pop-up window.  \n",
    "2. Ensure that the **Save and Run All** option is selected, and then click on the **Save** button.\n",
    "3. This generates a window in the bottom left corner of the notebook.  After it has finished running, click on the number to the right of the **Save Version** button.  This pulls up a list of versions on the right of the screen.  Click on the ellipsis **(...)** to the right of the most recent version, and select **Open in Viewer**.  This brings you into view mode of the same page. You will need to scroll down to get back to these instructions.\n",
    "4. Click on the **Data** tab near the top of the screen.  Then, click on the file you would like to submit, and click on the **Submit** button to submit your results to the leaderboard.\n",
    "\n",
    "You have now successfully submitted to the competition!\n",
    "\n",
    "If you want to keep working to improve your performance, select the **Edit** button in the top right of the screen. Then you can change your code and repeat the process. There's a lot of room to improve, and you will climb up the leaderboard as you work.\n"
   ]
  },
  {
   "cell_type": "code",
   "execution_count": 24,
   "id": "27539af1",
   "metadata": {
    "execution": {
     "iopub.execute_input": "2025-10-01T05:54:01.970580Z",
     "iopub.status.busy": "2025-10-01T05:54:01.969465Z",
     "iopub.status.idle": "2025-10-01T05:55:05.076941Z",
     "shell.execute_reply": "2025-10-01T05:55:05.075985Z"
    },
    "papermill": {
     "duration": 63.118262,
     "end_time": "2025-10-01T05:55:05.078366",
     "exception": false,
     "start_time": "2025-10-01T05:54:01.960104",
     "status": "completed"
    },
    "tags": []
   },
   "outputs": [
    {
     "name": "stdout",
     "output_type": "stream",
     "text": [
      "Best MAE: 14892\n",
      "Best parameters: {'model__learning_rate': 0.015, 'model__max_depth': 4, 'model__min_child_weight': 3}\n",
      "File submission.csv đã được tạo! Hãy nộp lên Kaggle.\n"
     ]
    }
   ],
   "source": [
    "import pandas as pd\n",
    "import numpy as np\n",
    "from sklearn.compose import ColumnTransformer\n",
    "from sklearn.pipeline import Pipeline\n",
    "from sklearn.preprocessing import OrdinalEncoder, OneHotEncoder\n",
    "from sklearn.impute import SimpleImputer\n",
    "from xgboost import XGBRegressor\n",
    "from sklearn.model_selection import cross_val_score, GridSearchCV\n",
    "\n",
    "# Feature Engineering\n",
    "X_train['TotalSF'] = X_train['1stFlrSF'] + X_train['2ndFlrSF'] + X_train['TotalBsmtSF']\n",
    "X_test['TotalSF'] = X_test['1stFlrSF'] + X_test['2ndFlrSF'] + X_test['TotalBsmtSF']\n",
    "\n",
    "X_train['TotalBath'] = (X_train['FullBath'] + 0.5 * X_train['HalfBath'] + \n",
    "                        X_train['BsmtFullBath'] + 0.5 * X_train['BsmtHalfBath'])\n",
    "X_test['TotalBath'] = (X_test['FullBath'] + 0.5 * X_test['HalfBath'] + \n",
    "                       X_test['BsmtFullBath'] + 0.5 * X_test['BsmtHalfBath'])\n",
    "\n",
    "X_train['Age'] = X_train['YrSold'] - X_train['YearBuilt']\n",
    "X_test['Age'] = X_test['YrSold'] - X_test['YearBuilt']\n",
    "\n",
    "# Thêm feature mạnh: OverallQual * TotalSF\n",
    "X_train['QualSF'] = X_train['OverallQual'] * X_train['TotalSF']\n",
    "X_test['QualSF'] = X_test['OverallQual'] * X_test['TotalSF']\n",
    "\n",
    "# Xác định cột phân loại còn tồn tại\n",
    "object_cols = [col for col in X_train.columns if X_train[col].dtype == \"object\"]\n",
    "ordinal_cols = [col for col in ['ExterQual', 'ExterCond', 'BsmtQual', 'BsmtCond', 'HeatingQC', \n",
    "                               'KitchenQual', 'FireplaceQu', 'GarageQual', 'GarageCond', 'PoolQC'] \n",
    "                if col in X_train.columns]\n",
    "nominal_cols = [col for col in object_cols if col not in ordinal_cols]\n",
    "\n",
    "# Tạo preprocessor\n",
    "preprocessor = ColumnTransformer(\n",
    "    transformers=[\n",
    "        ('ordinal', OrdinalEncoder(categories=[['Po', 'Fa', 'TA', 'Gd', 'Ex']] * len(ordinal_cols), \n",
    "                                 handle_unknown='use_encoded_value', unknown_value=-1), ordinal_cols),\n",
    "        ('nominal', OneHotEncoder(sparse_output=False, handle_unknown='ignore'), nominal_cols)\n",
    "    ],\n",
    "    remainder='passthrough'\n",
    ")\n",
    "\n",
    "# Tạo pipeline\n",
    "pipeline = Pipeline(steps=[\n",
    "    ('preprocessor', preprocessor),\n",
    "    ('imputer', SimpleImputer(strategy='median')),\n",
    "    ('model', XGBRegressor(\n",
    "        n_estimators=1200,  # Giảm nhẹ số cây\n",
    "        learning_rate=0.01,  # Giữ nhỏ\n",
    "        max_depth=3,        # Giảm độ sâu\n",
    "        min_child_weight=3,  # Tăng regularization\n",
    "        colsample_bytree=0.7,\n",
    "        subsample=0.7,\n",
    "        random_state=0,\n",
    "        n_jobs=-1\n",
    "    ))\n",
    "])\n",
    "\n",
    "# Grid Search để tối ưu hóa\n",
    "param_grid = {\n",
    "    'model__learning_rate': [0.005, 0.01, 0.015],\n",
    "    'model__max_depth': [2, 3, 4],\n",
    "    'model__min_child_weight': [3, 4, 5]\n",
    "}\n",
    "grid_search = GridSearchCV(pipeline, param_grid, cv=5, scoring='neg_mean_absolute_error', n_jobs=-1)\n",
    "grid_search.fit(X_train, y_train)\n",
    "\n",
    "# In kết quả Grid Search\n",
    "print(f\"Best MAE: {-grid_search.best_score_:.0f}\")\n",
    "print(f\"Best parameters: {grid_search.best_params_}\")\n",
    "\n",
    "# Fit pipeline tốt nhất trên toàn bộ X_train\n",
    "best_pipeline = grid_search.best_estimator_\n",
    "best_pipeline.fit(X_train, y_train)\n",
    "\n",
    "# Dự đoán trên X_test\n",
    "preds_test = best_pipeline.predict(X_test)\n",
    "\n",
    "# Đảm bảo giá trị dương\n",
    "preds_test = np.maximum(0, preds_test)\n",
    "\n",
    "# Tạo file submit\n",
    "output = pd.DataFrame({'Id': X_test.index, 'SalePrice': preds_test})\n",
    "output.to_csv('submission.csv', index=False)\n",
    "\n",
    "print(\"File submission.csv đã được tạo! Hãy nộp lên Kaggle.\")"
   ]
  },
  {
   "cell_type": "markdown",
   "id": "244928fb",
   "metadata": {
    "papermill": {
     "duration": 0.008313,
     "end_time": "2025-10-01T05:55:05.096804",
     "exception": false,
     "start_time": "2025-10-01T05:55:05.088491",
     "status": "completed"
    },
    "tags": []
   },
   "source": [
    "# Keep going\n",
    "\n",
    "With missing value handling and categorical encoding, your modeling process is getting complex. This complexity gets worse when you want to save your model to use in the future. The key to managing this complexity is something called **pipelines**. \n",
    "\n",
    "**[Learn to use pipelines](https://www.kaggle.com/alexisbcook/pipelines)** to preprocess datasets with categorical variables, missing values and any other messiness your data throws at you."
   ]
  },
  {
   "cell_type": "markdown",
   "id": "28b85cbd",
   "metadata": {
    "papermill": {
     "duration": 0.008532,
     "end_time": "2025-10-01T05:55:05.113759",
     "exception": false,
     "start_time": "2025-10-01T05:55:05.105227",
     "status": "completed"
    },
    "tags": []
   },
   "source": [
    "---\n",
    "\n",
    "\n",
    "\n",
    "\n",
    "*Have questions or comments? Visit the [course discussion forum](https://www.kaggle.com/learn/intermediate-machine-learning/discussion) to chat with other learners.*"
   ]
  }
 ],
 "metadata": {
  "kaggle": {
   "accelerator": "none",
   "dataSources": [
    {
     "databundleVersionId": 111096,
     "sourceId": 10211,
     "sourceType": "competition"
    }
   ],
   "isGpuEnabled": false,
   "isInternetEnabled": false,
   "language": "python",
   "sourceType": "notebook"
  },
  "kernelspec": {
   "display_name": "Python 3",
   "language": "python",
   "name": "python3"
  },
  "language_info": {
   "codemirror_mode": {
    "name": "ipython",
    "version": 3
   },
   "file_extension": ".py",
   "mimetype": "text/x-python",
   "name": "python",
   "nbconvert_exporter": "python",
   "pygments_lexer": "ipython3",
   "version": "3.11.13"
  },
  "papermill": {
   "default_parameters": {},
   "duration": 80.69994,
   "end_time": "2025-10-01T05:55:07.742602",
   "environment_variables": {},
   "exception": null,
   "input_path": "__notebook__.ipynb",
   "output_path": "__notebook__.ipynb",
   "parameters": {},
   "start_time": "2025-10-01T05:53:47.042662",
   "version": "2.6.0"
  }
 },
 "nbformat": 4,
 "nbformat_minor": 5
}
